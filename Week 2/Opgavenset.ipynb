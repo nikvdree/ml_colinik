{
 "cells": [
  {
   "cell_type": "markdown",
   "metadata": {},
   "source": [
    "### Download de dataset m.b.v. load_iris() uit sklearn.datasets."
   ]
  },
  {
   "cell_type": "code",
   "execution_count": 11,
   "metadata": {},
   "outputs": [],
   "source": [
    "\n",
    "import numpy as np\n",
    "import sklearn.datasets\n",
    "\n",
    "iris = sklearn.datasets.load_iris()"
   ]
  },
  {
   "cell_type": "markdown",
   "metadata": {},
   "source": [
    "### Vul je featurematrix X op basis van de data."
   ]
  },
  {
   "cell_type": "code",
   "execution_count": 12,
   "metadata": {},
   "outputs": [],
   "source": [
    "X = iris.data"
   ]
  },
  {
   "cell_type": "markdown",
   "metadata": {},
   "source": [
    "#### De uitkomstvector y ga je vullen op basis van target. \n",
    "Standaard bevat deze array de waardes 0, 1 en 2 (resp. 'setosa', 'versicolor', 'virginica'). Maak deze binair door 0 en 1 allebei 0 te maken (niet-virginica) en van elke 2 een 1 te maken (wel-virginica). Denk erom dat y het juiste datatype en de juiste shape krijgt."
   ]
  },
  {
   "cell_type": "code",
   "execution_count": 13,
   "metadata": {},
   "outputs": [
    {
     "name": "stdout",
     "output_type": "stream",
     "text": [
      "(150, 4)\n",
      "(150,)\n",
      "[0 0 0 0 0 0 0 0 0 0 0 0 0 0 0 0 0 0 0 0 0 0 0 0 0 0 0 0 0 0 0 0 0 0 0 0 0\n",
      " 0 0 0 0 0 0 0 0 0 0 0 0 0 1 1 1 1 1 1 1 1 1 1 1 1 1 1 1 1 1 1 1 1 1 1 1 1\n",
      " 1 1 1 1 1 1 1 1 1 1 1 1 1 1 1 1 1 1 1 1 1 1 1 1 1 1 2 2 2 2 2 2 2 2 2 2 2\n",
      " 2 2 2 2 2 2 2 2 2 2 2 2 2 2 2 2 2 2 2 2 2 2 2 2 2 2 2 2 2 2 2 2 2 2 2 2 2\n",
      " 2 2]\n",
      "[0 0 0 0 0 0 0 0 0 0 0 0 0 0 0 0 0 0 0 0 0 0 0 0 0 0 0 0 0 0 0 0 0 0 0 0 0\n",
      " 0 0 0 0 0 0 0 0 0 0 0 0 0 0 0 0 0 0 0 0 0 0 0 0 0 0 0 0 0 0 0 0 0 0 0 0 0\n",
      " 0 0 0 0 0 0 0 0 0 0 0 0 0 0 0 0 0 0 0 0 0 0 0 0 0 0 1 1 1 1 1 1 1 1 1 1 1\n",
      " 1 1 1 1 1 1 1 1 1 1 1 1 1 1 1 1 1 1 1 1 1 1 1 1 1 1 1 1 1 1 1 1 1 1 1 1 1\n",
      " 1 1]\n"
     ]
    }
   ],
   "source": [
    "y = iris.target\n",
    "\n",
    "print(X.shape)\n",
    "print(y.shape)\n",
    "print(y.T)\n",
    "\n",
    "y = np.where(y == 2, 1, 0)\n",
    "print(y.T)"
   ]
  },
  {
   "cell_type": "markdown",
   "metadata": {},
   "source": [
    "### Definieer een functie sigmoid() die de sigmoïde-functie implementeert."
   ]
  },
  {
   "cell_type": "code",
   "execution_count": 15,
   "metadata": {},
   "outputs": [
    {
     "data": {
      "text/plain": [
       "0.5"
      ]
     },
     "execution_count": 15,
     "metadata": {},
     "output_type": "execute_result"
    }
   ],
   "source": [
    "def sigmoid(z):\n",
    "    return 1/(1+np.exp(-z))\n",
    "\n",
    "test_z = 0\n",
    "sigmoid(test_z)"
   ]
  },
  {
   "cell_type": "markdown",
   "metadata": {},
   "source": [
    "### Initialiseer een vector theta met 1.0'en in de juiste shape."
   ]
  },
  {
   "cell_type": "code",
   "execution_count": 16,
   "metadata": {},
   "outputs": [],
   "source": [
    "theta = np.ones(X.shape[1])"
   ]
  },
  {
   "cell_type": "markdown",
   "metadata": {},
   "source": [
    "### Nu kun je beginnen aan de loop waarin je in 1500 iteraties:\n",
    "- De voorspellingen (denk aan sigmoid!) en de errors berekent.\n",
    "- De gradient berekent en theta aanpast. Werk in eerste instantie met een learning rate van 0.01.\n",
    "- De kosten berekent."
   ]
  },
  {
   "cell_type": "code",
   "execution_count": 21,
   "metadata": {},
   "outputs": [],
   "source": [
    "def compute_cost(X, y, theta):\n",
    "    J = 0\n",
    "    m,n = X.shape\n",
    "\n",
    "    J = np.sum(np.square(np.dot(X, theta) - y)) / (2 * m)\n",
    "    \n",
    "    return J\n",
    "\n",
    "def gradient_descent(X, y, theta, alpha, num_iters):\n",
    "\n",
    "    costs = []\n",
    "    m, n = X.shape\n",
    "    htheta = X.dot(theta.transpose())\n",
    "    for _ in range(num_iters):\n",
    "        htheta = X.dot(theta.transpose())\n",
    "        a = (alpha / m)\n",
    "        theta[0, 0] = theta[0, 0] - a * (htheta - y).sum()\n",
    "        theta[0, 1] = theta[0, 1] - a * ((htheta - y) * (X[::, 1:])).sum() \n",
    "        costs.append(compute_cost(X, y, theta.transpose()))\n",
    "\n",
    "    costs = np.array(costs)\n",
    "\n",
    "    return theta, costs\n"
   ]
  },
  {
   "cell_type": "code",
   "execution_count": 27,
   "metadata": {},
   "outputs": [
    {
     "ename": "ValueError",
     "evalue": "shapes (150,4) and (5,1) not aligned: 4 (dim 1) != 5 (dim 0)",
     "output_type": "error",
     "traceback": [
      "\u001b[1;31m---------------------------------------------------------------------------\u001b[0m",
      "\u001b[1;31mValueError\u001b[0m                                Traceback (most recent call last)",
      "\u001b[1;32mg:\\My Drive\\School\\HBO\\Jaar 4\\Machine Learning\\ml\\Opdrachten\\Week 2\\Opgavenset2.ipynb Cell 13\u001b[0m line \u001b[0;36m2\n\u001b[0;32m      <a href='vscode-notebook-cell:/g%3A/My%20Drive/School/HBO/Jaar%204/Machine%20Learning/ml/Opdrachten/Week%202/Opgavenset2.ipynb#X14sZmlsZQ%3D%3D?line=0'>1</a>\u001b[0m \u001b[39mfor\u001b[39;00m _ \u001b[39min\u001b[39;00m \u001b[39mrange\u001b[39m(\u001b[39m1500\u001b[39m):\n\u001b[1;32m----> <a href='vscode-notebook-cell:/g%3A/My%20Drive/School/HBO/Jaar%204/Machine%20Learning/ml/Opdrachten/Week%202/Opgavenset2.ipynb#X14sZmlsZQ%3D%3D?line=1'>2</a>\u001b[0m     prediction \u001b[39m=\u001b[39m sigmoid(np\u001b[39m.\u001b[39;49mdot(X,theta))\n\u001b[0;32m      <a href='vscode-notebook-cell:/g%3A/My%20Drive/School/HBO/Jaar%204/Machine%20Learning/ml/Opdrachten/Week%202/Opgavenset2.ipynb#X14sZmlsZQ%3D%3D?line=2'>3</a>\u001b[0m     theta \u001b[39m=\u001b[39m theta \u001b[39m-\u001b[39m \u001b[39m0.01\u001b[39m \u001b[39m*\u001b[39m np\u001b[39m.\u001b[39mdot(X\u001b[39m.\u001b[39mT, prediction \u001b[39m-\u001b[39m y)\n\u001b[0;32m      <a href='vscode-notebook-cell:/g%3A/My%20Drive/School/HBO/Jaar%204/Machine%20Learning/ml/Opdrachten/Week%202/Opgavenset2.ipynb#X14sZmlsZQ%3D%3D?line=4'>5</a>\u001b[0m \u001b[39mprint\u001b[39m(theta)\n",
      "File \u001b[1;32m<__array_function__ internals>:200\u001b[0m, in \u001b[0;36mdot\u001b[1;34m(*args, **kwargs)\u001b[0m\n",
      "\u001b[1;31mValueError\u001b[0m: shapes (150,4) and (5,1) not aligned: 4 (dim 1) != 5 (dim 0)"
     ]
    }
   ],
   "source": [
    "for _ in range(1500):\n",
    "    prediction = sigmoid(np.dot(X,theta))\n",
    "    theta = theta - 0.01 * np.dot(X.T, prediction - y)\n",
    "\n",
    "print(theta)\n",
    "    "
   ]
  },
  {
   "cell_type": "markdown",
   "metadata": {},
   "source": [
    "### Experimenteer eens met andere waardes van de learning rate (1.0 < alpha < 0.0)."
   ]
  },
  {
   "cell_type": "code",
   "execution_count": 28,
   "metadata": {},
   "outputs": [
    {
     "name": "stdout",
     "output_type": "stream",
     "text": [
      "[[1.]\n",
      " [1.]\n",
      " [1.]\n",
      " [1.]]\n",
      "[[-96.35239017]\n",
      " [-95.90851751]\n",
      " [132.74827364]\n",
      " [129.01986318]]\n",
      "[[-286.7694525 ]\n",
      " [-285.02584852]\n",
      " [ 396.68063893]\n",
      " [ 380.36862438]]\n",
      "[[-480.38168584]\n",
      " [-476.22309273]\n",
      " [ 660.98057273]\n",
      " [ 637.11945213]]\n",
      "[[-678.95769453]\n",
      " [-669.22358183]\n",
      " [ 914.86606188]\n",
      " [ 895.65924946]]\n",
      "[[-873.95593099]\n",
      " [-859.08829175]\n",
      " [1181.44446257]\n",
      " [1146.44660853]]\n",
      "[[-960.01758075]\n",
      " [-949.80856744]\n",
      " [1315.94831307]\n",
      " [1283.71128794]]\n"
     ]
    },
    {
     "name": "stderr",
     "output_type": "stream",
     "text": [
      "C:\\Users\\colin\\AppData\\Local\\Temp\\ipykernel_29800\\514242896.py:2: RuntimeWarning: overflow encountered in exp\n",
      "  return 1/(1+np.exp(-z))\n"
     ]
    }
   ],
   "source": [
    "LearningRates = [0.0, 0.1, 0.3, 0.5, 0.7, 0.9, 1.0]\n",
    "\n",
    "for i in LearningRates:\n",
    "    theta = np.ones((X.shape[1],1))\n",
    "    for _ in range(1500):\n",
    "        prediction = sigmoid(np.dot(X,theta))\n",
    "        theta = theta - i * np.dot(X.T, prediction - y)\n",
    "    print(theta)"
   ]
  }
 ],
 "metadata": {
  "kernelspec": {
   "display_name": "Python 3",
   "language": "python",
   "name": "python3"
  },
  "language_info": {
   "codemirror_mode": {
    "name": "ipython",
    "version": 3
   },
   "file_extension": ".py",
   "mimetype": "text/x-python",
   "name": "python",
   "nbconvert_exporter": "python",
   "pygments_lexer": "ipython3",
   "version": "3.11.4"
  }
 },
 "nbformat": 4,
 "nbformat_minor": 2
}
